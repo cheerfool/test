{
 "cells": [
  {
   "cell_type": "markdown",
   "metadata": {},
   "source": [
    "# Math 210 Project 2: GDP Distribution and GDP Growth Rate"
   ]
  },
  {
   "cell_type": "markdown",
   "metadata": {},
   "source": [
    "## Introduce the data \n",
    "\n",
    "1. My subject is going to analysis about economy and growth in GDP.\n",
    "\n",
    "2. I choose this project is due to my second major in UBC which is Economy.\n",
    "  I have been learned lots of lectures about economy, \n",
    "  and I want to combine my mathematics and economy knowledage together in my project2. \n",
    "  Therefore, I choose economy dataset and use the math210 method to analysis it.\n",
    "  \n",
    "3. I find this dataset as following website\n",
    "http://data.worldbank.org/data-catalog/GDP-ranking-table\n",
    "\n",
    "4. the reader can find all the information about GDP ranking in this website. Just open the web, and download all the documents they need. "
   ]
  },
  {
   "cell_type": "markdown",
   "metadata": {},
   "source": [
    "## Ask qustions\n",
    "\n",
    "In this project, I have 2 types of quesions that I wold like to explore\n",
    "1. what can we see from the GDP financial amout about this dataset? \n",
    "2. How are high GDP countries distributed over different continents?\n",
    "    * What is the highest GDP country for each continent?\n",
    "    * Which continent has the most top 50 GDP countries?\n",
    "3. What might influence the GDP growth rate?\n",
    "    * Is it related to birth rate, data rate, or GDP in that country?\n",
    "    * Which factor above is most relevant to GDP growth rate? How does it influence the GDP growth rate?\n",
    "\n",
    "Firstly, I need to introduce the definition of GDP \n",
    "\n",
    "*\"Gross domestic product (GDP)*: \n",
    "\n",
    "**the monetary value of all the finished goods and services produced within a country's borders in a specific time period. Though GDP is usually calculated on an annual basis, it can be calculated on a quarterly basis as well. GDP includes all private and public consumption, government outlays, investments and exports minus imports that occur within a defined territory. Put simply, GDP is a broad measurement of a nation’s overall economic activity.\"**\n",
    "\n",
    "Gross domestic product can be calculated using the following formula:\n",
    "\n",
    "$$ GDP = C + G + I + NX $$\n",
    "\n",
    "where C is equal to all private consumption, or consumer spending, in a nation's economy, G is the sum of government spending, I is the sum of all the country's investment, including businesses capital expenditures and NX is the nation's total net exports, calculated as total exports minus total imports (NX = Exports - Imports).\n",
    "\n",
    "resource from online, the website is \n",
    "http://www.investopedia.com/terms/g/gdp.asp\n",
    "\n",
    "Then, I am starting to analysis the dataset I get from \n",
    "*World Bank http://data.worldbank.org*\n",
    "\n",
    "\n",
    "## Quick summary from datasat  \n",
    "\n",
    "1. What can we see from GDP? This is a more economy question I thought. \n",
    "  In the economy world, there are two parts: *The pitfalls of GDP*, *Revisions*\n",
    "  In another words, it means health and wealth somehow. why does it happen?  \n",
    "  Usually, when we don not have much information about GDP, we choose to test a country health and wealth to account in instead of GDP \n",
    " \n",
    " ** this part is more economy , if you are interested in, you can reader a quick summary online by following link:\n",
    " http://www.telegraph.co.uk/finance/economics/11159277/What-does-GDP-really-tell-us-about-economic-growth.html\n",
    " \n",
    "2. Basicly, I thought it is kind of regionalism. \n",
    "   From top 10 we can see ,\n",
    "   3 Asian countries : China & Japan & India, and the ranking is 2 &3 & 9 \n",
    "   1 North America country: USA, and the ranking is 1 \n",
    "   rest counties are located in Europe.\n",
    "   \n",
    "  As a result, 60% high GDP countries are from Europe\n",
    "  \n",
    "  (By the way , Canada is ranked by 11) \n",
    " \n",
    "3. I checked some notes from google and baidu. I don not think that GDP means everything about good quality of life. \n",
    "  For example, GDP ranking of China is higher than Canada. However, canadian medical treatment cause is much better than China even most of     Aisn countis such as India  \n",
    "   \n",
    "\n"
   ]
  },
  {
   "cell_type": "markdown",
   "metadata": {},
   "source": [
    "## Explore the dataset \n",
    "\n",
    "### Get High GDP countries' distribution"
   ]
  },
  {
   "cell_type": "code",
   "execution_count": 1,
   "metadata": {
    "collapsed": true
   },
   "outputs": [],
   "source": [
    "import numpy as np\n",
    "import pandas as pd\n",
    "import matplotlib\n",
    "import matplotlib.pyplot as plt\n",
    "%matplotlib inline"
   ]
  },
  {
   "cell_type": "markdown",
   "metadata": {},
   "source": [
    "We first read the World Bank Open Data for GDP Ranking in year 2014:"
   ]
  },
  {
   "cell_type": "code",
   "execution_count": 2,
   "metadata": {
    "collapsed": false
   },
   "outputs": [],
   "source": [
    "gdpRank = pd.read_csv(\"GDPRanking.csv\", encoding=\"latin\", index_col=0)"
   ]
  },
  {
   "cell_type": "code",
   "execution_count": 3,
   "metadata": {
    "collapsed": false
   },
   "outputs": [
    {
     "name": "stdout",
     "output_type": "stream",
     "text": [
      "                Country Code       GDP\n",
      "Ranking                               \n",
      "1         United States  USA  17419000\n",
      "2                 China  CHN  10354832\n",
      "3                 Japan  JPN   4601461\n",
      "4               Germany  DEU   3868291\n",
      "5        United Kingdom  GBR   2988893\n"
     ]
    }
   ],
   "source": [
    "print(gdpRank.head())"
   ]
  },
  {
   "cell_type": "code",
   "execution_count": 4,
   "metadata": {
    "collapsed": false
   },
   "outputs": [
    {
     "name": "stdout",
     "output_type": "stream",
     "text": [
      "                       Country Code  GDP\n",
      "Ranking                                 \n",
      "191      Micronesia, Fed. Sts.  FSM  318\n",
      "192                      Palau  PLW  251\n",
      "193           Marshall Islands  MHL  187\n",
      "194                   Kiribati  KIR  167\n",
      "195                     Tuvalu  TUV   38\n"
     ]
    }
   ],
   "source": [
    "print(gdpRank.tail())"
   ]
  },
  {
   "cell_type": "code",
   "execution_count": 5,
   "metadata": {
    "collapsed": false
   },
   "outputs": [
    {
     "name": "stdout",
     "output_type": "stream",
     "text": [
      "<class 'pandas.core.frame.DataFrame'>\n",
      "Int64Index: 195 entries, 1 to 195\n",
      "Data columns (total 3 columns):\n",
      "Country    195 non-null object\n",
      "Code       195 non-null object\n",
      "GDP        195 non-null int64\n",
      "dtypes: int64(1), object(2)\n",
      "memory usage: 6.1+ KB\n",
      "None\n"
     ]
    }
   ],
   "source": [
    "print(gdpRank.info())"
   ]
  },
  {
   "cell_type": "markdown",
   "metadata": {},
   "source": [
    "Then read the dataset that maps a country or district to its continent:"
   ]
  },
  {
   "cell_type": "code",
   "execution_count": 6,
   "metadata": {
    "collapsed": true
   },
   "outputs": [],
   "source": [
    "continent = pd.read_csv(\"Countries_Continents.csv\", index_col=0)"
   ]
  },
  {
   "cell_type": "code",
   "execution_count": 7,
   "metadata": {
    "collapsed": false
   },
   "outputs": [
    {
     "name": "stdout",
     "output_type": "stream",
     "text": [
      "         Continent\n",
      "Country           \n",
      "Algeria     Africa\n",
      "Angola      Africa\n",
      "Benin       Africa\n",
      "Botswana    Africa\n",
      "Burkina     Africa\n"
     ]
    }
   ],
   "source": [
    "print(continent.head())"
   ]
  },
  {
   "cell_type": "markdown",
   "metadata": {},
   "source": [
    "Combine the GDP ranking dataset with the continent information, and then pick the top 50 high ranking GDP countries:"
   ]
  },
  {
   "cell_type": "code",
   "execution_count": 8,
   "metadata": {
    "collapsed": true
   },
   "outputs": [],
   "source": [
    "gdpRank_continent = gdpRank.join(continent, on='Country').head(50)"
   ]
  },
  {
   "cell_type": "code",
   "execution_count": 9,
   "metadata": {
    "collapsed": false
   },
   "outputs": [
    {
     "name": "stdout",
     "output_type": "stream",
     "text": [
      "                      Country Code       GDP      Continent\n",
      "Ranking                                                    \n",
      "1               United States  USA  17419000  North America\n",
      "2                       China  CHN  10354832           Asia\n",
      "3                       Japan  JPN   4601461           Asia\n",
      "4                     Germany  DEU   3868291         Europe\n",
      "5              United Kingdom  GBR   2988893         Europe\n",
      "6                      France  FRA   2829192         Europe\n",
      "7                      Brazil  BRA   2416636  South America\n",
      "8                       Italy  ITA   2141161         Europe\n",
      "9                       India  IND   2048517           Asia\n",
      "10         Russian Federation  RUS   1860598           Asia\n",
      "11                     Canada  CAN   1785387  North America\n",
      "12                  Australia  AUS   1454675        Oceania\n",
      "13                Korea, Rep.  KOR   1410383           Asia\n",
      "14                      Spain  ESP   1381342         Europe\n",
      "15                     Mexico  MEX   1294690  North America\n",
      "16                  Indonesia  IDN    888538           Asia\n",
      "17                Netherlands  NLD    879319         Europe\n",
      "18                     Turkey  TUR    798429           Asia\n",
      "19               Saudi Arabia  SAU    753832           Asia\n",
      "20                Switzerland  CHE    701037         Europe\n",
      "21                     Sweden  SWE    571090         Europe\n",
      "22                    Nigeria  NGA    568508         Africa\n",
      "23                     Poland  POL    544967         Europe\n",
      "24                  Argentina  ARG    537660  South America\n",
      "25                    Belgium  BEL    531547         Europe\n",
      "26                     Norway  NOR    499817         Europe\n",
      "27                    Austria  AUT    436888         Europe\n",
      "28         Iran, Islamic Rep.  IRN    425326           Asia\n",
      "29                   Thailand  THA    404824           Asia\n",
      "30       United Arab Emirates  ARE    399451           Asia\n",
      "31              Venezuela, RB  VEN    381286  South America\n",
      "32                   Colombia  COL    377740  South America\n",
      "33               South Africa  ZAF    350141         Africa\n",
      "34                    Denmark  DNK    342362         Europe\n",
      "35                   Malaysia  MYS    338104           Asia\n",
      "36                  Singapore  SGP    307860           Asia\n",
      "37                     Israel  ISR    305675           Asia\n",
      "38           Egypt, Arab Rep.  EGY    301499         Africa\n",
      "39       Hong Kong SAR, China  HKG    290896           Asia\n",
      "40                Philippines  PHL    284777           Asia\n",
      "41                    Finland  FIN    272217         Europe\n",
      "42                      Chile  CHL    258062  South America\n",
      "43                    Ireland  IRL    250814         Europe\n",
      "44                   Pakistan  PAK    243632           Asia\n",
      "45                     Greece  GRC    235574         Europe\n",
      "46                   Portugal  PRT    230117         Europe\n",
      "47                       Iraq  IRQ    223500           Asia\n",
      "48                 Kazakhstan  KAZ    217872           Asia\n",
      "49                    Algeria  DZA    213518         Africa\n",
      "50                      Qatar  QAT    210109           Asia\n"
     ]
    }
   ],
   "source": [
    "print(gdpRank_continent)"
   ]
  },
  {
   "cell_type": "markdown",
   "metadata": {},
   "source": [
    "Group those top 50 countries by continent:"
   ]
  },
  {
   "cell_type": "code",
   "execution_count": 10,
   "metadata": {
    "collapsed": true
   },
   "outputs": [],
   "source": [
    "gdpRank_grouped = gdpRank_continent.groupby('Continent')"
   ]
  },
  {
   "cell_type": "markdown",
   "metadata": {},
   "source": [
    "See the highest GDP country for each continent:"
   ]
  },
  {
   "cell_type": "code",
   "execution_count": 11,
   "metadata": {
    "collapsed": false
   },
   "outputs": [
    {
     "name": "stdout",
     "output_type": "stream",
     "text": [
      "               Country Code       GDP      Continent\n",
      "Ranking                                             \n",
      "1        United States  USA  17419000  North America\n",
      "2                China  CHN  10354832           Asia\n",
      "4              Germany  DEU   3868291         Europe\n",
      "7               Brazil  BRA   2416636  South America\n",
      "12           Australia  AUS   1454675        Oceania\n",
      "22             Nigeria  NGA    568508         Africa\n"
     ]
    }
   ],
   "source": [
    "print(gdpRank_grouped.head(1))"
   ]
  },
  {
   "cell_type": "markdown",
   "metadata": {},
   "source": [
    "Count the number of top50 GDP countries for each continent:"
   ]
  },
  {
   "cell_type": "code",
   "execution_count": 12,
   "metadata": {
    "collapsed": false
   },
   "outputs": [
    {
     "data": {
      "text/plain": [
       "<matplotlib.axes._subplots.AxesSubplot at 0x96a4208>"
      ]
     },
     "execution_count": 12,
     "metadata": {},
     "output_type": "execute_result"
    },
    {
     "data": {
      "image/png": "[encoded data removed]",
      "text/plain": [
       "<matplotlib.figure.Figure at 0x969edd8>"
      ]
     },
     "metadata": {},
     "output_type": "display_data"
    }
   ],
   "source": [
    "gdpRank_grouped['Country'].count().plot(kind='bar', title='Number of top50 GDP countries')"
   ]
  },
  {
   "cell_type": "markdown",
   "metadata": {},
   "source": [
    "Compute the total GDP for each continent within the top 50 GDP countries:"
   ]
  },
  {
   "cell_type": "code",
   "execution_count": 13,
   "metadata": {
    "collapsed": false
   },
   "outputs": [
    {
     "data": {
      "text/plain": [
       "<matplotlib.axes._subplots.AxesSubplot at 0x9741780>"
      ]
     },
     "execution_count": 13,
     "metadata": {},
     "output_type": "execute_result"
    },
    {
     "data": {
      "image/png": "[encoded data removed]",
      "text/plain": [
       "<matplotlib.figure.Figure at 0x971e0b8>"
      ]
     },
     "metadata": {},
     "output_type": "display_data"
    }
   ],
   "source": [
    "gdpRank_grouped['GDP'].sum().plot(kind='bar', title='Total GDP within top50 GDP countries')"
   ]
  },
  {
   "cell_type": "markdown",
   "metadata": {},
   "source": [
    "### What influence GDP Growth?\n",
    "We first read the data for birth rate, death rate, and GDP growth rate in year 2014:"
   ]
  },
  {
   "cell_type": "code",
   "execution_count": 14,
   "metadata": {
    "collapsed": false
   },
   "outputs": [
    {
     "name": "stdout",
     "output_type": "stream",
     "text": [
      "               GDP_Growth\n",
      "Country                  \n",
      "Afghanistan           1.3\n",
      "Albania               2.2\n",
      "Algeria               3.8\n",
      "American Samoa         ..\n",
      "Andorra                ..\n"
     ]
    }
   ],
   "source": [
    "gdpGrowth = pd.read_csv(\"GDPGrowth.csv\", encoding=\"latin\", index_col=0)\n",
    "print(gdpGrowth.head())"
   ]
  },
  {
   "cell_type": "code",
   "execution_count": 15,
   "metadata": {
    "collapsed": false
   },
   "outputs": [
    {
     "name": "stdout",
     "output_type": "stream",
     "text": [
      "               Birth_Rate\n",
      "Country                  \n",
      "Afghanistan          34.2\n",
      "Albania              13.4\n",
      "Algeria              24.3\n",
      "American Samoa         ..\n",
      "Andorra                ..\n"
     ]
    }
   ],
   "source": [
    "birthrate = pd.read_csv(\"Birthrate.csv\", encoding=\"latin\", index_col=0)\n",
    "print(birthrate.head())"
   ]
  },
  {
   "cell_type": "code",
   "execution_count": 16,
   "metadata": {
    "collapsed": false
   },
   "outputs": [
    {
     "name": "stdout",
     "output_type": "stream",
     "text": [
      "               Death_Rate\n",
      "Country                  \n",
      "Afghanistan           8.2\n",
      "Albania               7.4\n",
      "Algeria               5.1\n",
      "American Samoa         ..\n",
      "Andorra                ..\n"
     ]
    }
   ],
   "source": [
    "deathrate = pd.read_csv(\"Deathrate.csv\", encoding=\"latin\", index_col=0)\n",
    "print(deathrate.head())"
   ]
  },
  {
   "cell_type": "markdown",
   "metadata": {},
   "source": [
    "We then combine different data into one table, convert all cells to numeric type, and drop the countries that have empty values:"
   ]
  },
  {
   "cell_type": "code",
   "execution_count": 17,
   "metadata": {
    "collapsed": false
   },
   "outputs": [
    {
     "name": "stdout",
     "output_type": "stream",
     "text": [
      "                     GDP_Growth  Birth_Rate  Death_Rate       GDP\n",
      "Country                                                          \n",
      "Afghanistan                 1.3        34.2         8.2   20038.0\n",
      "Albania                     2.2        13.4         7.4   13212.0\n",
      "Algeria                     3.8        24.3         5.1  213518.0\n",
      "Antigua and Barbuda         4.8        16.3         6.1    1221.0\n",
      "Argentina                   0.5        17.5         7.6  537660.0\n"
     ]
    }
   ],
   "source": [
    "combined = gdpGrowth.join([birthrate,deathrate,gdpRank[['Country','GDP']].set_index('Country')])\n",
    "combined = combined.apply(pd.to_numeric, errors='coerce')\n",
    "combined = combined.dropna()\n",
    "print(combined.head())"
   ]
  },
  {
   "cell_type": "markdown",
   "metadata": {},
   "source": [
    "See the correlation between all these factors:"
   ]
  },
  {
   "cell_type": "code",
   "execution_count": 18,
   "metadata": {
    "collapsed": false
   },
   "outputs": [
    {
     "name": "stdout",
     "output_type": "stream",
     "text": [
      "            GDP_Growth  Birth_Rate  Death_Rate       GDP\n",
      "GDP_Growth    1.000000    0.320214   -0.031863 -0.024811\n",
      "Birth_Rate    0.320214    1.000000    0.073016 -0.212722\n",
      "Death_Rate   -0.031863    0.073016    1.000000  0.014287\n",
      "GDP          -0.024811   -0.212722    0.014287  1.000000\n"
     ]
    }
   ],
   "source": [
    "gdp_corr = combined.corr()\n",
    "print(gdp_corr)"
   ]
  },
  {
   "cell_type": "markdown",
   "metadata": {},
   "source": [
    "From this table we can see that GDP growth rate is most relevant to birth rate among the three factors, and it doesn't have strong correlation with the death rate or GDP.\n",
    "\n",
    "To see how GDP growth rate changes with birth rate:"
   ]
  },
  {
   "cell_type": "code",
   "execution_count": 19,
   "metadata": {
    "collapsed": false
   },
   "outputs": [
    {
     "data": {
      "text/plain": [
       "<matplotlib.axes._subplots.AxesSubplot at 0x9b87b00>"
      ]
     },
     "execution_count": 19,
     "metadata": {},
     "output_type": "execute_result"
    },
    {
     "data": {
      "image/png": "[encoded data removed]",
      "text/plain": [
       "<matplotlib.figure.Figure at 0x9b85ef0>"
      ]
     },
     "metadata": {},
     "output_type": "display_data"
    }
   ],
   "source": [
    "combined[['Birth_Rate','GDP_Growth']].plot(x='Birth_Rate',y='GDP_Growth',kind='scatter')"
   ]
  },
  {
   "cell_type": "markdown",
   "metadata": {},
   "source": [
    "## All the finding \n",
    "firstly, I need to provide all the resource that I get from online as following :\n",
    "\n",
    "I find this dataset as following website http://data.worldbank.org/data-catalog/GDP-ranking-table\n",
    " dataset I get from World Bank http://data.worldbank.org\n",
    " GDP resource from online, the website is http://www.investopedia.com/terms/g/gdp.asp\n",
    " this part is more economy , if you are interested in, you can reader a quick summary online by following link: http://www.telegraph.co.uk/finance/economics/11159277/What-does-GDP-really-tell-us-about-economic-growth.html\n",
    " \n",
    "seconedly, I would like to summary this project\n",
    "\n",
    "From economy part, we can see that GDP effects lots of aspects such as health, wealth ,and income \n",
    "From datasat we analysis, we can see it is kind of regionalism as we list above\n",
    "\n",
    "For the top 50 GDP countries for each continent, we can see Asia and Europe has the most countries. While talking about the total GDP, though North America has only 3 countries in the list, its total GDP is still very high and similar to that of Asia and Europe.\n",
    "\n",
    "For the factors that may influence GDP growth rate, we see that birth rate has the highest correlation with GDP growth rate, while other factors seem not very relevant.\n"
   ]
  }
 ],
 "metadata": {
  "kernelspec": {
   "display_name": "Python 3",
   "language": "python",
   "name": "python3"
  },
  "language_info": {
   "codemirror_mode": {
    "name": "ipython",
    "version": 3
   },
   "file_extension": ".py",
   "mimetype": "text/x-python",
   "name": "python",
   "nbconvert_exporter": "python",
   "pygments_lexer": "ipython3",
   "version": "3.5.1"
  }
 },
 "nbformat": 4,
 "nbformat_minor": 0
}
